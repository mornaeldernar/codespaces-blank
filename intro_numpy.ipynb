{
 "cells": [
  {
   "cell_type": "markdown",
   "id": "8ffa13f2",
   "metadata": {},
   "source": [
    "# 🛢️ Introducción a NumPy con Aplicaciones en la Industria Petrolera\n",
    "\n",
    "Aprenderemos los fundamentos de NumPy y los aplicaremos a ejemplos típicos en la ingeniería del petróleo."
   ]
  },
  {
   "cell_type": "code",
   "execution_count": null,
   "id": "232e934c",
   "metadata": {},
   "outputs": [],
   "source": []
  },
  {
   "cell_type": "markdown",
   "id": "f030b719",
   "metadata": {},
   "source": [
    "## 📦 Importación de Librerías"
   ]
  },
  {
   "cell_type": "code",
   "execution_count": 1,
   "id": "f018c79e",
   "metadata": {},
   "outputs": [
    {
     "name": "stdout",
     "output_type": "stream",
     "text": [
      "Requirement already satisfied: numpy in /home/codespace/.local/lib/python3.12/site-packages (2.2.4)\n"
     ]
    }
   ],
   "source": [
    "!pip install numpy"
   ]
  },
  {
   "cell_type": "code",
   "execution_count": null,
   "id": "91b1e712",
   "metadata": {},
   "outputs": [],
   "source": [
    "import numpy as np"
   ]
  },
  {
   "cell_type": "markdown",
   "id": "64391a16",
   "metadata": {},
   "source": [
    "## 🧠 Fundamentos de NumPy"
   ]
  },
  {
   "cell_type": "code",
   "execution_count": null,
   "id": "fa358792",
   "metadata": {},
   "outputs": [],
   "source": [
    "# Crear un array de presiones en psi\n",
    "lista = [1000, 950, 875, 840]\n",
    "presiones = np.array(lista)\n",
    "print(\"Presiones:\", presiones)\n",
    "print(\"Dimensiones:\", presiones.ndim)\n",
    "print(\"Forma:\", presiones.shape)\n",
    "print(\"Tipo de dato:\", presiones.dtype)"
   ]
  },
  {
   "cell_type": "markdown",
   "id": "9d8cfafe",
   "metadata": {},
   "source": [
    "## 🔍 Comparación entre listas y arrays"
   ]
  },
  {
   "cell_type": "code",
   "execution_count": null,
   "id": "ee355ca8",
   "metadata": {},
   "outputs": [],
   "source": [
    "import time\n",
    "\n",
    "lista = list(range(1000000))\n",
    "start = time.time()\n",
    "resultado_lista = [x * 1.1 for x in lista]\n",
    "print(\"Tiempo con lista:\", time.time() - start)\n",
    "\n",
    "array = np.array(lista)\n",
    "start = time.time()\n",
    "resultado_array = array * 1.1\n",
    "print(\"Tiempo con array:\", time.time() - start)"
   ]
  },
  {
   "cell_type": "markdown",
   "id": "79ba0f1b",
   "metadata": {},
   "source": [
    "## ⚙️ Operaciones Vectorizadas: Caída de Presión"
   ]
  },
  {
   "cell_type": "code",
   "execution_count": null,
   "id": "ae6fe2c6",
   "metadata": {},
   "outputs": [],
   "source": [
    "profundidades = np.linspace(0, 3000, 10)  # en metros\n",
    "presion_superficie = 1200  # psi\n",
    "gradiente = 0.35  # psi/m\n",
    "\n",
    "presion_pozo = presion_superficie - gradiente * profundidades\n",
    "print(\"Presión a diferentes profundidades (psi):\")\n",
    "print(presion_pozo)"
   ]
  },
  {
   "cell_type": "markdown",
   "id": "f874d3cb",
   "metadata": {},
   "source": [
    "## 📈 Visualización de Perfil de Presión"
   ]
  },
  {
   "cell_type": "code",
   "execution_count": null,
   "id": "14d50210",
   "metadata": {},
   "outputs": [],
   "source": [
    "plt.plot(profundidades, presion_pozo, marker='o')\n",
    "plt.xlabel(\"Profundidad (m)\")\n",
    "plt.ylabel(\"Presión (psi)\")\n",
    "plt.title(\"Perfil de Presión en el Pozo\")\n",
    "plt.gca().invert_xaxis()\n",
    "plt.grid(True)\n",
    "plt.show()\n"
   ]
  },
  {
   "cell_type": "markdown",
   "id": "0213eb35",
   "metadata": {},
   "source": [
    "## 📊 Estadísticas Básicas"
   ]
  },
  {
   "cell_type": "code",
   "execution_count": null,
   "id": "3a87c61a",
   "metadata": {},
   "outputs": [],
   "source": [
    "print(\"Presión máxima:\", np.max(presion_pozo))\n",
    "print(\"Presión mínima:\", np.min(presion_pozo))\n",
    "print(\"Promedio:\", np.mean(presion_pozo))\n",
    "print(\"Desviación estándar:\", np.std(presion_pozo))"
   ]
  },
  {
   "cell_type": "markdown",
   "id": "a0ea07ba",
   "metadata": {},
   "source": [
    "## 🧪 Simulación de Producción con Ruido"
   ]
  },
  {
   "cell_type": "code",
   "execution_count": null,
   "id": "37c29d29",
   "metadata": {},
   "outputs": [],
   "source": [
    "dias = np.arange(0, 30)\n",
    "produccion_base = 500  # barriles por día\n",
    "ruido = np.random.normal(0, 25, size=dias.shape)\n",
    "produccion = produccion_base + ruido\n",
    "\n",
    "print(\"Producción media:\", np.mean(produccion))\n",
    "print(\"Producción total:\", np.sum(produccion))\n",
    "\n",
    "plt.plot(dias, produccion, label='Producción diaria')\n",
    "plt.axhline(np.mean(produccion), color='r', linestyle='--', label='Media')\n",
    "plt.xlabel(\"Día\")\n",
    "plt.ylabel(\"Barriles\")\n",
    "plt.title(\"Producción con variabilidad\")\n",
    "plt.legend()\n",
    "plt.grid(True)\n",
    "plt.show()\n"
   ]
  }
 ],
 "metadata": {
  "kernelspec": {
   "display_name": "Python 3",
   "language": "python",
   "name": "python3"
  },
  "language_info": {
   "codemirror_mode": {
    "name": "ipython",
    "version": 3
   },
   "file_extension": ".py",
   "mimetype": "text/x-python",
   "name": "python",
   "nbconvert_exporter": "python",
   "pygments_lexer": "ipython3",
   "version": "3.12.1"
  }
 },
 "nbformat": 4,
 "nbformat_minor": 5
}
